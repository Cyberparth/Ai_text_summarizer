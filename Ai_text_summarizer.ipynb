{
 "cells": [
  {
   "cell_type": "markdown",
   "id": "90edd798-3726-40c1-911a-35a2a7d53000",
   "metadata": {},
   "source": [
    "***Installing Transformers and torch***\n"
   ]
  },
  {
   "cell_type": "code",
   "execution_count": 58,
   "id": "2e6dd8f0-d391-44bf-b07c-64ac76dc426e",
   "metadata": {
    "scrolled": true
   },
   "outputs": [
    {
     "name": "stdout",
     "output_type": "stream",
     "text": [
      "Requirement already satisfied: transformers in c:\\python 3.10.6\\lib\\site-packages (4.53.1)\n",
      "Requirement already satisfied: filelock in c:\\python 3.10.6\\lib\\site-packages (from transformers) (3.18.0)\n",
      "Requirement already satisfied: huggingface-hub<1.0,>=0.30.0 in c:\\python 3.10.6\\lib\\site-packages (from transformers) (0.33.2)\n",
      "Requirement already satisfied: numpy>=1.17 in c:\\python 3.10.6\\lib\\site-packages (from transformers) (1.26.4)\n",
      "Requirement already satisfied: packaging>=20.0 in c:\\python 3.10.6\\lib\\site-packages (from transformers) (24.0)\n",
      "Requirement already satisfied: pyyaml>=5.1 in c:\\python 3.10.6\\lib\\site-packages (from transformers) (6.0.1)\n",
      "Requirement already satisfied: regex!=2019.12.17 in c:\\python 3.10.6\\lib\\site-packages (from transformers) (2024.11.6)\n",
      "Requirement already satisfied: requests in c:\\python 3.10.6\\lib\\site-packages (from transformers) (2.32.3)\n",
      "Requirement already satisfied: tokenizers<0.22,>=0.21 in c:\\python 3.10.6\\lib\\site-packages (from transformers) (0.21.2)\n",
      "Requirement already satisfied: safetensors>=0.4.3 in c:\\python 3.10.6\\lib\\site-packages (from transformers) (0.5.3)\n",
      "Requirement already satisfied: tqdm>=4.27 in c:\\python 3.10.6\\lib\\site-packages (from transformers) (4.67.1)\n",
      "Requirement already satisfied: fsspec>=2023.5.0 in c:\\python 3.10.6\\lib\\site-packages (from huggingface-hub<1.0,>=0.30.0->transformers) (2025.3.2)\n",
      "Requirement already satisfied: typing-extensions>=3.7.4.3 in c:\\python 3.10.6\\lib\\site-packages (from huggingface-hub<1.0,>=0.30.0->transformers) (4.12.1)\n",
      "Requirement already satisfied: colorama in c:\\python 3.10.6\\lib\\site-packages (from tqdm>=4.27->transformers) (0.4.5)\n",
      "Requirement already satisfied: charset-normalizer<4,>=2 in c:\\python 3.10.6\\lib\\site-packages (from requests->transformers) (2.1.1)\n",
      "Requirement already satisfied: idna<4,>=2.5 in c:\\python 3.10.6\\lib\\site-packages (from requests->transformers) (3.4)\n",
      "Requirement already satisfied: urllib3<3,>=1.21.1 in c:\\python 3.10.6\\lib\\site-packages (from requests->transformers) (1.26.13)\n",
      "Requirement already satisfied: certifi>=2017.4.17 in c:\\python 3.10.6\\lib\\site-packages (from requests->transformers) (2022.12.7)\n"
     ]
    },
    {
     "name": "stderr",
     "output_type": "stream",
     "text": [
      "\n",
      "[notice] A new release of pip is available: 25.0.1 -> 25.1.1\n",
      "[notice] To update, run: python.exe -m pip install --upgrade pip\n"
     ]
    },
    {
     "name": "stdout",
     "output_type": "stream",
     "text": [
      "Requirement already satisfied: torch in c:\\python 3.10.6\\lib\\site-packages (2.6.0)\n",
      "Requirement already satisfied: filelock in c:\\python 3.10.6\\lib\\site-packages (from torch) (3.18.0)\n",
      "Requirement already satisfied: typing-extensions>=4.10.0 in c:\\python 3.10.6\\lib\\site-packages (from torch) (4.12.1)\n",
      "Requirement already satisfied: networkx in c:\\python 3.10.6\\lib\\site-packages (from torch) (3.4.2)\n",
      "Requirement already satisfied: jinja2 in c:\\python 3.10.6\\lib\\site-packages (from torch) (3.1.2)\n",
      "Requirement already satisfied: fsspec in c:\\python 3.10.6\\lib\\site-packages (from torch) (2025.3.2)\n",
      "Requirement already satisfied: sympy==1.13.1 in c:\\python 3.10.6\\lib\\site-packages (from torch) (1.13.1)\n",
      "Requirement already satisfied: mpmath<1.4,>=1.1.0 in c:\\python 3.10.6\\lib\\site-packages (from sympy==1.13.1->torch) (1.3.0)\n",
      "Requirement already satisfied: MarkupSafe>=2.0 in c:\\python 3.10.6\\lib\\site-packages (from jinja2->torch) (2.1.1)\n"
     ]
    },
    {
     "name": "stderr",
     "output_type": "stream",
     "text": [
      "\n",
      "[notice] A new release of pip is available: 25.0.1 -> 25.1.1\n",
      "[notice] To update, run: python.exe -m pip install --upgrade pip\n"
     ]
    }
   ],
   "source": [
    "!pip install transformers\n",
    "!pip install torch\n"
   ]
  },
  {
   "cell_type": "markdown",
   "id": "cffbcb25-e2d0-4a9a-9446-55e0e5f7bd6d",
   "metadata": {},
   "source": [
    "***Importing Dependencies***"
   ]
  },
  {
   "cell_type": "code",
   "execution_count": 59,
   "id": "d0edf953-6e17-49b1-a346-502c0d394fa8",
   "metadata": {},
   "outputs": [],
   "source": [
    "from transformers import pipeline \n"
   ]
  },
  {
   "cell_type": "code",
   "execution_count": 60,
   "id": "30728e47-20b5-4c41-8b07-11b23965d41e",
   "metadata": {},
   "outputs": [
    {
     "name": "stderr",
     "output_type": "stream",
     "text": [
      "Device set to use cpu\n"
     ]
    }
   ],
   "source": [
    "summarizer = pipeline(\"summarization\", model=\"facebook/bart-large-cnn\", framework=\"pt\")\n"
   ]
  },
  {
   "cell_type": "markdown",
   "id": "ef257eb8-bf5c-49c7-b426-5aaafbf3399e",
   "metadata": {},
   "source": [
    "***Input Text***"
   ]
  },
  {
   "cell_type": "code",
   "execution_count": 61,
   "id": "a079f241-7e44-4b97-861b-3b85ae686124",
   "metadata": {},
   "outputs": [],
   "source": [
    "text = \"\"\"\n",
    "In the final decades of the 21st century, researchers began to notice an unexpected phenomenon in the far-western reaches of the Amazon Basin: pockets of “shadow rainforests” that seemed to resist the accelerating effects of drought and heat. These tracts—many of them no larger than a midsized university campus—boasted taller canopy trees, denser understory foliage, and cooler midday temperatures than adjacent parcels only a few hundred meters away. Satellite imagery revealed faint differences in albedo; soil cores showed elevated moisture retention and a higher concentration of mycorrhizal networks. The discovery triggered a cascade of questions: Were these refugia remnants of an ancient forest type, or emergent islands of resilience driven by recent ecological shifts? And, perhaps more tantalizingly, could they teach scientists how to safeguard the wider Amazon at a time when climate models forecast a transition to savanna-like conditions by 2085?\n",
    "\n",
    "To probe these mysteries, an interdisciplinary team—climatologists from Brazil, soil scientists from Kenya, microbial ecologists from Germany, and ethnobotanists from the Achuar Nation—launched Project Umbra. Funded by a rare consortium of philanthropic foundations and the Brazilian Space Agency, the mission had three pillars. The first was extensive mapping: using a new generation of lidar satellites capable of resolving branch-level structure from 600 km up, the team cataloged over 2,400 shadow rainforest candidates across a 3.7-million-square-kilometer grid. The second pillar was bio-prospection. Drones equipped with micro-bristle samplers collected fungal spores drifting above both refuge and control sites; genomic sequencing back in Manaus identified an unexpected abundance of *Heliomarpha symbiontis*, a fungus previously thought endemic only to New Guinea mangroves. The third pillar was sociocultural: Achuar knowledge keepers shared oral histories describing “cold gardens” where certain medicinal lianas remained vigorous during multi-year dry spells. According to elder Ishpa Inkachu, these gardens were tended for at least fourteen generations, with ritual ash incorporated into the soil after each lunar eclipse.\n",
    "\n",
    "Six months into Project Umbra, a breakthrough arrived from an unlikely angle: acoustics. Autonomous recorders, initially placed to monitor bird activity, captured low-frequency vibrations propagating through the ground at dawn. When the signal was converted to a spectrogram, it revealed a rhythmic pattern—three pulses, a pause, then two—that repeated every 23 minutes. Geophysicists first suspected distant mining blasts, but timing ruled that out. Subsequent fieldwork uncovered shallow root-driven cavitations that released bursts of subterranean humidity into the understory air. This “root-pump” effect reduced leaf-surface temperature by as much as 3.4 °C compared with baseline plots, creating a feedback loop that limited evapotranspiration and buffered the miniature climate.\n",
    "\n",
    "Equally surprising was the chemical profile of rainwater that trickled from canopy drip-points into collection funnels. The water contained nanoscale silica spheres coated with a waxy layer of triterpenes. Laboratory tests suggested these spheres acted like miniature umbrellas, slowing evaporation from soil pores by as much as 18 percent. No known Amazonian tree produces such structures in abundance—except *Cedrelinga umbraviata*, a species historically logged for lightweight timber. Its seedlings, however, were two-and-a-half times more common inside shadow forests than outside, hinting that selective logging decades earlier may have unintentionally sculpted the refugia by reducing competition and allowing *C. umbraviata* to flourish.\n",
    "\n",
    "As data accumulated, a new hypothesis crystallized: shadow rainforests were not holdovers from deep time, but rather emergent mosaics shaped by historical land use, indigenous stewardship, and climatic micro-anomalies. The team proposed a management strategy dubbed “distributed shading.” Instead of attempting to preserve the entire Amazon in a homogeneous state—which political re\n",
    "\n",
    "\n",
    "\"\"\""
   ]
  },
  {
   "cell_type": "markdown",
   "id": "58e34413-5c98-460e-a197-f74cd2b84870",
   "metadata": {},
   "source": [
    "\n",
    "***Summarizing the Input Data***"
   ]
  },
  {
   "cell_type": "code",
   "execution_count": 62,
   "id": "eb8d7593-8893-4b2f-9b8b-04871a57eb9a",
   "metadata": {},
   "outputs": [
    {
     "name": "stdout",
     "output_type": "stream",
     "text": [
      "Summary:\n",
      "Researchers began to notice an unexpected phenomenon in the far-western reaches of the Amazon Basin: pockets of “shadow rainforests” that seemed to resist the accelerating effects of drought and heat. The discovery triggered a cascade of questions: Were these refugia remnants of an ancient forest type, or emergent islands of resilience driven by recent ecological shifts?\n"
     ]
    }
   ],
   "source": [
    "summary = summarizer(text, max_length=100, min_length=30, do_sample=False)\n",
    "print(\"Summary:\")\n",
    "print(summary[0]['summary_text'])"
   ]
  },
  {
   "cell_type": "code",
   "execution_count": null,
   "id": "d00bad8d-3dea-47b2-b5e8-c00390e0d94b",
   "metadata": {},
   "outputs": [],
   "source": []
  },
  {
   "cell_type": "code",
   "execution_count": null,
   "id": "4464b10c-6dd0-41f8-a45c-6d045b9e15cd",
   "metadata": {},
   "outputs": [],
   "source": []
  },
  {
   "cell_type": "code",
   "execution_count": null,
   "id": "561d2d36-118c-4113-b6f0-d957a4ba58ea",
   "metadata": {},
   "outputs": [],
   "source": []
  }
 ],
 "metadata": {
  "kernelspec": {
   "display_name": "Python 3 (ipykernel)",
   "language": "python",
   "name": "python3"
  },
  "language_info": {
   "codemirror_mode": {
    "name": "ipython",
    "version": 3
   },
   "file_extension": ".py",
   "mimetype": "text/x-python",
   "name": "python",
   "nbconvert_exporter": "python",
   "pygments_lexer": "ipython3",
   "version": "3.10.6"
  }
 },
 "nbformat": 4,
 "nbformat_minor": 5
}
